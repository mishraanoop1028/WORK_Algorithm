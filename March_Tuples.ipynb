{
 "cells": [
  {
   "cell_type": "code",
   "execution_count": 2,
   "metadata": {},
   "outputs": [
    {
     "name": "stdout",
     "output_type": "stream",
     "text": [
      "()\n",
      "<class 'tuple'>\n"
     ]
    }
   ],
   "source": [
    "empty_tuple=()\n",
    "print(empty_tuple)\n",
    "print(type(empty_tuple))"
   ]
  },
  {
   "cell_type": "code",
   "execution_count": 4,
   "metadata": {},
   "outputs": [
    {
     "name": "stdout",
     "output_type": "stream",
     "text": [
      "<class 'list'>\n",
      "<class 'tuple'>\n"
     ]
    }
   ],
   "source": [
    "lst=list()\n",
    "print(type(lst))\n",
    "tpl=tuple()\n",
    "\n",
    "print(type(tpl))"
   ]
  },
  {
   "cell_type": "code",
   "execution_count": 5,
   "metadata": {},
   "outputs": [
    {
     "data": {
      "text/plain": [
       "(1, 2, 3, 4, 5, 6)"
      ]
     },
     "execution_count": 5,
     "metadata": {},
     "output_type": "execute_result"
    }
   ],
   "source": [
    "numbers=tuple([1,2,3,4,5,6])\n",
    "numbers"
   ]
  },
  {
   "cell_type": "code",
   "execution_count": 6,
   "metadata": {},
   "outputs": [],
   "source": [
    "mixed_tuple=(1,\"hello_world\",3.14,True)"
   ]
  },
  {
   "cell_type": "code",
   "execution_count": 8,
   "metadata": {},
   "outputs": [
    {
     "name": "stdout",
     "output_type": "stream",
     "text": [
      "1\n",
      "True\n"
     ]
    }
   ],
   "source": [
    "## accesing tuple element\n",
    "numbers[2]\n",
    "print(mixed_tuple[0])\n",
    "print(mixed_tuple[3])"
   ]
  },
  {
   "cell_type": "code",
   "execution_count": 9,
   "metadata": {},
   "outputs": [
    {
     "name": "stdout",
     "output_type": "stream",
     "text": [
      "3\n"
     ]
    }
   ],
   "source": [
    "print(numbers[2])"
   ]
  },
  {
   "cell_type": "code",
   "execution_count": 10,
   "metadata": {},
   "outputs": [
    {
     "data": {
      "text/plain": [
       "(1, 2, 3, 4)"
      ]
     },
     "execution_count": 10,
     "metadata": {},
     "output_type": "execute_result"
    }
   ],
   "source": [
    "numbers[0:4]"
   ]
  },
  {
   "cell_type": "code",
   "execution_count": 11,
   "metadata": {},
   "outputs": [
    {
     "data": {
      "text/plain": [
       "(1, 2, 3, 1, 2, 3, 1, 2, 3)"
      ]
     },
     "execution_count": 11,
     "metadata": {},
     "output_type": "execute_result"
    }
   ],
   "source": [
    "## tuples operations\n",
    "\n",
    "numbers1=(1,2,3)\n",
    "numbers2=(4,5,6)\n",
    "numbers1+numbers2\n",
    "numbers1*3\n",
    "## negative indexing"
   ]
  },
  {
   "cell_type": "code",
   "execution_count": 16,
   "metadata": {},
   "outputs": [
    {
     "name": "stdout",
     "output_type": "stream",
     "text": [
      "(1, 2, 3, 4, 5, 6, 1, 'hello_world', 3.14, True)\n"
     ]
    }
   ],
   "source": [
    "concatenation_tuple=numbers+mixed_tuple\n",
    "tuple(concatenation_tuple)\n",
    "print(concatenation_tuple)"
   ]
  },
  {
   "cell_type": "code",
   "execution_count": 17,
   "metadata": {},
   "outputs": [
    {
     "data": {
      "text/plain": [
       "(1,\n",
       " 'hello_world',\n",
       " 3.14,\n",
       " True,\n",
       " 1,\n",
       " 'hello_world',\n",
       " 3.14,\n",
       " True,\n",
       " 1,\n",
       " 'hello_world',\n",
       " 3.14,\n",
       " True)"
      ]
     },
     "execution_count": 17,
     "metadata": {},
     "output_type": "execute_result"
    }
   ],
   "source": [
    "mixed_tuple*3"
   ]
  },
  {
   "cell_type": "code",
   "execution_count": 18,
   "metadata": {},
   "outputs": [
    {
     "name": "stdout",
     "output_type": "stream",
     "text": [
      "[1, 2, 3, 4, 5]\n"
     ]
    }
   ],
   "source": [
    "## immutable nature of tuples\n",
    "lst=[1,2,3,4,5]\n",
    "print(lst)"
   ]
  },
  {
   "cell_type": "code",
   "execution_count": 19,
   "metadata": {},
   "outputs": [],
   "source": [
    "lst[1]=\"krish\""
   ]
  },
  {
   "cell_type": "code",
   "execution_count": 20,
   "metadata": {},
   "outputs": [
    {
     "name": "stdout",
     "output_type": "stream",
     "text": [
      "[1, 'krish', 3, 4, 5]\n"
     ]
    }
   ],
   "source": [
    "print(lst)"
   ]
  },
  {
   "cell_type": "code",
   "execution_count": 24,
   "metadata": {},
   "outputs": [
    {
     "name": "stdout",
     "output_type": "stream",
     "text": [
      "1\n"
     ]
    }
   ],
   "source": [
    "##tuples methods\n",
    "print(numbers.count(1))"
   ]
  },
  {
   "cell_type": "code",
   "execution_count": 25,
   "metadata": {},
   "outputs": [
    {
     "name": "stdout",
     "output_type": "stream",
     "text": [
      "2\n"
     ]
    }
   ],
   "source": [
    "print(numbers.index(3))"
   ]
  },
  {
   "cell_type": "code",
   "execution_count": 28,
   "metadata": {},
   "outputs": [
    {
     "name": "stdout",
     "output_type": "stream",
     "text": [
      "2\n"
     ]
    }
   ],
   "source": [
    "print(numbers.index(3))"
   ]
  },
  {
   "cell_type": "code",
   "execution_count": 29,
   "metadata": {},
   "outputs": [
    {
     "name": "stdout",
     "output_type": "stream",
     "text": [
      "(1, 'hello', 3.4)\n"
     ]
    }
   ],
   "source": [
    "## packing and unpacking tuples\n",
    "packed_tuples=1,\"hello\",3.4\n",
    "print(packed_tuples)"
   ]
  },
  {
   "cell_type": "code",
   "execution_count": 31,
   "metadata": {},
   "outputs": [
    {
     "name": "stdout",
     "output_type": "stream",
     "text": [
      "1\n",
      "3.4\n",
      "hello\n"
     ]
    }
   ],
   "source": [
    "## unpacking atuples \n",
    "a,b,c=packed_tuples\n",
    "print(a)\n",
    "print(c)\n",
    "print(b)"
   ]
  },
  {
   "cell_type": "code",
   "execution_count": 32,
   "metadata": {},
   "outputs": [
    {
     "name": "stdout",
     "output_type": "stream",
     "text": [
      "1\n",
      "[2, 3, 4, 5]\n",
      "6\n"
     ]
    }
   ],
   "source": [
    "## unpacking with *\n",
    "numbers=(1,2,3,4,5,6)\n",
    "first,*middle,last=numbers\n",
    "print(first)\n",
    "print(middle)\n",
    "print(last)"
   ]
  },
  {
   "cell_type": "code",
   "execution_count": 33,
   "metadata": {},
   "outputs": [
    {
     "name": "stdout",
     "output_type": "stream",
     "text": [
      "(1, 2, 3)\n",
      "6\n",
      "8\n"
     ]
    }
   ],
   "source": [
    "## nested tuples\n",
    "\n",
    "nested_tuple=((1,2,3),(4,5,6),(7,8,9))\n",
    "print(nested_tuple[0])\n",
    "print(nested_tuple[1][2])\n",
    "print(nested_tuple[2][1])"
   ]
  },
  {
   "cell_type": "code",
   "execution_count": 35,
   "metadata": {},
   "outputs": [
    {
     "name": "stdout",
     "output_type": "stream",
     "text": [
      "[1, 2, 3]\n",
      "6\n",
      "8\n"
     ]
    },
    {
     "ename": "TypeError",
     "evalue": "'int' object is not subscriptable",
     "output_type": "error",
     "traceback": [
      "\u001b[1;31m---------------------------------------------------------------------------\u001b[0m",
      "\u001b[1;31mTypeError\u001b[0m                                 Traceback (most recent call last)",
      "Cell \u001b[1;32mIn[35], line 8\u001b[0m\n\u001b[0;32m      6\u001b[0m \u001b[38;5;28mprint\u001b[39m(nested_lst[\u001b[38;5;241m2\u001b[39m][\u001b[38;5;241m1\u001b[39m])\n\u001b[0;32m      7\u001b[0m \u001b[38;5;66;03m## tuple methods with nested tuples\u001b[39;00m\n\u001b[1;32m----> 8\u001b[0m \u001b[43mlst\u001b[49m\u001b[43m[\u001b[49m\u001b[38;5;241;43m0\u001b[39;49m\u001b[43m]\u001b[49m\u001b[43m[\u001b[49m\u001b[38;5;241;43m0\u001b[39;49m\u001b[43m:\u001b[49m\u001b[38;5;241;43m3\u001b[39;49m\u001b[43m]\u001b[49m\n\u001b[0;32m      9\u001b[0m \u001b[38;5;28mprint\u001b[39m(lst)\n",
      "\u001b[1;31mTypeError\u001b[0m: 'int' object is not subscriptable"
     ]
    }
   ],
   "source": [
    "## nested lst\n",
    "\n",
    "nested_lst=[[1,2,3],[4,5,6],[7,8,9]]\n",
    "print(nested_lst[0])\n",
    "print(nested_lst[1][2])\n",
    "print(nested_lst[2][1])\n",
    "## tuple methods with nested tuples\n",
    "lst[0][0:3]\n",
    "print(lst)"
   ]
  },
  {
   "cell_type": "code",
   "execution_count": 36,
   "metadata": {},
   "outputs": [
    {
     "name": "stdout",
     "output_type": "stream",
     "text": [
      "((1, 2, 3), ('a', 'b', 'c'))\n"
     ]
    }
   ],
   "source": [
    "nested_tuple=((1,2,3),(\"a\",\"b\",\"c\"))\n",
    "print(nested_tuple)"
   ]
  },
  {
   "cell_type": "code",
   "execution_count": 43,
   "metadata": {},
   "outputs": [
    {
     "name": "stdout",
     "output_type": "stream",
     "text": [
      "6\n"
     ]
    }
   ],
   "source": [
    "print(nested_lst[1][2])"
   ]
  },
  {
   "cell_type": "code",
   "execution_count": 44,
   "metadata": {},
   "outputs": [
    {
     "name": "stdout",
     "output_type": "stream",
     "text": [
      "1 2 3 \n",
      "a b c \n"
     ]
    }
   ],
   "source": [
    "for sub_tuple in nested_tuple:\n",
    "    for item in sub_tuple:\n",
    "        print(item,end=\" \")\n",
    "    print()"
   ]
  },
  {
   "cell_type": "code",
   "execution_count": 45,
   "metadata": {},
   "outputs": [
    {
     "name": "stdout",
     "output_type": "stream",
     "text": [
      "['Buy Groceries', 'clean the house', 'pa bills', 'cook dinner']\n"
     ]
    }
   ],
   "source": [
    "to_dolist=[\"Buy Groceries\",\"clean the house\",\"pa bills\"]\n",
    "## adding to task \n",
    "\n",
    "to_dolist.append(\"cook dinner\")\n",
    "print(to_dolist)"
   ]
  },
  {
   "cell_type": "code",
   "execution_count": 46,
   "metadata": {},
   "outputs": [
    {
     "name": "stdout",
     "output_type": "stream",
     "text": [
      "['Buy Groceries', 'pa bills', 'cook dinner']\n"
     ]
    }
   ],
   "source": [
    "to_dolist.remove(\"clean the house\" )\n",
    "print(to_dolist)"
   ]
  },
  {
   "cell_type": "code",
   "execution_count": 51,
   "metadata": {},
   "outputs": [
    {
     "name": "stdout",
     "output_type": "stream",
     "text": [
      "to do list remaining\n",
      "Buy Groceries\n",
      "pa bills\n",
      "cook dinner\n"
     ]
    }
   ],
   "source": [
    "## checking if a task is in the list\n",
    "if \"clean the house\" in to_dolist:\n",
    "    print(\"cook dinner\" in to_dolist)\n",
    "print(\"to do list remaining\")\n",
    "\n",
    "for task in to_dolist:\n",
    "    print(task)"
   ]
  },
  {
   "cell_type": "code",
   "execution_count": 52,
   "metadata": {},
   "outputs": [
    {
     "name": "stdout",
     "output_type": "stream",
     "text": [
      "[('English', 95), ('Math', 90), ('Science', 85)]\n",
      "Highest Grade: ('English', 95)\n",
      "Lowest Grade: ('Science', 85)\n",
      "Average Grade: 90.0\n",
      "Standard Deviation: 4.08248290463863\n"
     ]
    }
   ],
   "source": [
    "# organizing the new grade  \n",
    "\n",
    "grades=[(\"Math\",90),(\"Science\",85),(\"English\",95)]\n",
    "grades.sort(key=lambda x: x[1], reverse=True)\n",
    "print(grades)\n",
    "## find th highest and lowest grade\n",
    "\n",
    "highest_grade=max(grades, key=lambda x: x[1])\n",
    "lowest_grade=min(grades, key=lambda x: x[1])\n",
    "print(\"Highest Grade:\", highest_grade)\n",
    "print(\"Lowest Grade:\", lowest_grade)\n",
    "\n",
    "## find the average grade\n",
    "\n",
    "average_grade=sum(grade[1] for grade in grades)/len(grades)\n",
    "print(\"Average Grade:\", average_grade)\n",
    "\n",
    "## find the standard deviation\n",
    "\n",
    "import math\n",
    "\n",
    "standard_deviation=math.sqrt(sum((grade[1]-average_grade)**2 for grade in grades)/len(grades))\n",
    "print(\"Standard Deviation:\", standard_deviation)\n",
    "## find the median grade\n",
    "\n",
    "sorted_grades=sorted(grades, key=lambda x: x[1])\n",
    "if len(sorted_grades)%2==0:\n",
    "    median_grade=(sorted_grades[len(sorted_grades)//2-1][1]+sorted_grades[len(sorted_grades)//2][1])/2\n",
    "else:\n",
    "    median_grade=sorted_grades[len(sorted_grades)//2][1]"
   ]
  },
  {
   "cell_type": "code",
   "execution_count": 53,
   "metadata": {},
   "outputs": [
    {
     "name": "stdout",
     "output_type": "stream",
     "text": [
      "Initial Inventory: {'apple': 10, 'banana': 5, 'orange': 20}\n",
      "Updated Inventory: {'apple': 15, 'banana': 2, 'orange': 20}\n",
      "New Inventory: {'apple': 15, 'banana': 2, 'orange': 20, 'mango': 15}\n",
      "Remaining Inventory: {'apple': 15, 'banana': 2, 'mango': 15}\n",
      "Total Quantity: 32\n",
      "Inventory is in stock!\n",
      "Current Inventory: {'apple': 15, 'banana': 2, 'mango': 15}\n",
      "Total Quantity: 32\n",
      "Average Quantity: 10.666666666666666\n",
      "Most Stocked Item: apple with Quantity: 15\n",
      "Least Stocked Item: banana with Quantity: 2\n",
      "Sorted Inventory by Quantity: [('apple', 15), ('mango', 15), ('banana', 2)]\n"
     ]
    }
   ],
   "source": [
    "## manging an inventory\n",
    "\n",
    "inventory={\"apple\":10,\"banana\":5,\"orange\":20}\n",
    "print(\"Initial Inventory:\", inventory)\n",
    "inventory[\"apple\"]=inventory[\"apple\"]+5\n",
    "inventory[\"banana\"]=inventory[\"banana\"]-3\n",
    "print(\"Updated Inventory:\", inventory)\n",
    "## adding new item\n",
    "\n",
    "inventory[\"mango\"]=15\n",
    "print(\"New Inventory:\", inventory)\n",
    "\n",
    "## removing an item\n",
    "\n",
    "del inventory[\"orange\"]\n",
    "print(\"Remaining Inventory:\", inventory)\n",
    "\n",
    "## finding the total quantity\n",
    "\n",
    "total_quantity=sum(inventory.values())\n",
    "print(\"Total Quantity:\", total_quantity)\n",
    "## checking the stocks\n",
    "\n",
    "if total_quantity<10:\n",
    "    print(\"Inventory is low!\")\n",
    "else:\n",
    "    print(\"Inventory is in stock!\")\n",
    "    print(\"Current Inventory:\", inventory)\n",
    "    print(\"Total Quantity:\", total_quantity)\n",
    "    \n",
    "# finding the average quantity\n",
    "\n",
    "average_quantity=total_quantity/len(inventory)\n",
    "print(\"Average Quantity:\", average_quantity)\n",
    "\n",
    "## finding the most and least stocked item\n",
    "\n",
    "most_stocked_item=max(inventory, key=inventory.get)\n",
    "least_stocked_item=min(inventory, key=inventory.get)\n",
    "print(\"Most Stocked Item:\", most_stocked_item, \"with Quantity:\", inventory[most_stocked_item])\n",
    "print(\"Least Stocked Item:\", least_stocked_item, \"with Quantity:\", inventory[least_stocked_item])\n",
    "\n",
    "## sorting the inventory by quantity\n",
    "\n",
    "sorted_inventory=sorted(inventory.items(), key=lambda x: x[1], reverse=True)\n",
    "print(\"Sorted Inventory by Quantity:\", sorted_inventory)\n"
   ]
  },
  {
   "cell_type": "code",
   "execution_count": 55,
   "metadata": {},
   "outputs": [
    {
     "name": "stdout",
     "output_type": "stream",
     "text": [
      "\n",
      "i enjoyed the movie!\n",
      "the acting was excellent.\n",
      "the cinematography was visually stunning.\n",
      "the plot was well-written.\n",
      "i would definitely watch it again.\n",
      "\n"
     ]
    }
   ],
   "source": [
    "# collecting user feedback\n",
    "\n",
    "user_feedback={\"positive\":0,\"negative\":0,\"neutral\":0}\n",
    "feedback_input=\"\"\"\n",
    "I enjoyed the movie!\n",
    "The acting was excellent.\n",
    "The cinematography was visually stunning.\n",
    "The plot was well-written.\n",
    "I would definitely watch it again.\n",
    "\"\"\"\n",
    "#fic feedback\n",
    "\n",
    "feedback_input=feedback_input.lower()\n",
    "for feedback in feedback_input.split(\".\"):\n",
    "    feedback=feedback.strip()\n",
    "    if \"good\" in feedback or \"excellent\" in feedback:\n",
    "        user_feedback[\"positive\"]+=1\n",
    "    elif \"bad\" in feedback or \"terrible\" in feedback:   \n",
    "        user_feedback[\"negative\"]+=1\n",
    "\n",
    "user_feedback[\"neutral\"]+=len(feedback_input.split(\".\"))-user_feedback[\"positive\"]-user_feedback[\"negative\"]    \n",
    "\n",
    "print(feedback_input)"
   ]
  },
  {
   "cell_type": "code",
   "execution_count": null,
   "metadata": {},
   "outputs": [],
   "source": []
  },
  {
   "cell_type": "code",
   "execution_count": null,
   "metadata": {},
   "outputs": [],
   "source": []
  }
 ],
 "metadata": {
  "kernelspec": {
   "display_name": "Python 3",
   "language": "python",
   "name": "python3"
  },
  "language_info": {
   "codemirror_mode": {
    "name": "ipython",
    "version": 3
   },
   "file_extension": ".py",
   "mimetype": "text/x-python",
   "name": "python",
   "nbconvert_exporter": "python",
   "pygments_lexer": "ipython3",
   "version": "3.13.1"
  }
 },
 "nbformat": 4,
 "nbformat_minor": 2
}
