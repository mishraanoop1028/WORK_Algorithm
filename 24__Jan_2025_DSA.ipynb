{
  "nbformat": 4,
  "nbformat_minor": 0,
  "metadata": {
    "colab": {
      "provenance": []
    },
    "kernelspec": {
      "name": "python3",
      "display_name": "Python 3"
    },
    "language_info": {
      "name": "python"
    }
  },
  "cells": [
    {
      "cell_type": "markdown",
      "source": [
        "#DSA\n",
        "▶"
      ],
      "metadata": {
        "id": "M60ZJ2SOAfY7"
      }
    },
    {
      "cell_type": "markdown",
      "source": [
        "## 1_Array\n",
        "\n",
        "\n"
      ],
      "metadata": {
        "id": "NSRZ6gZZAaig"
      }
    },
    {
      "cell_type": "code",
      "execution_count": 18,
      "metadata": {
        "colab": {
          "base_uri": "https://localhost:8080/"
        },
        "id": "q3FoeMrcwBgW",
        "outputId": "d1d33400-1ea0-4928-ec31-78067ccbc561"
      },
      "outputs": [
        {
          "output_type": "stream",
          "name": "stdout",
          "text": [
            "array('d', [3.14, 3.5, 4.99])\n",
            "array('i', [1, 2, 3, 5, 7, 11, 13, 17])\n"
          ]
        }
      ],
      "source": [
        "import array as arr\n",
        "myArray = arr.array('d' , [3.14,3.5,4.99])\n",
        "print(myArray)\n",
        "myArray2 = arr.array('i', [1,2,3,5,7,11,13,17,19])\n",
        "print(myArray2[:-1])"
      ]
    },
    {
      "cell_type": "code",
      "source": [
        "myArray2 = arr.array('i', [1,2,3,5,7,11,13,17,19])\n",
        "print(myArray2[6:])"
      ],
      "metadata": {
        "colab": {
          "base_uri": "https://localhost:8080/"
        },
        "id": "-Zze4qCKz8VN",
        "outputId": "39394407-3cd8-4d36-9292-8a381234409f"
      },
      "execution_count": 22,
      "outputs": [
        {
          "output_type": "stream",
          "name": "stdout",
          "text": [
            "array('i', [13, 17, 19])\n"
          ]
        }
      ]
    },
    {
      "cell_type": "code",
      "source": [
        "myArray2[0]=99\n",
        "print(myArray2)"
      ],
      "metadata": {
        "colab": {
          "base_uri": "https://localhost:8080/"
        },
        "id": "4aWteGzn0LY-",
        "outputId": "fd7af8e4-cc86-4096-a594-c675440802d7"
      },
      "execution_count": 27,
      "outputs": [
        {
          "output_type": "stream",
          "name": "stdout",
          "text": [
            "array('i', [99, 2, 3, 5, 7, 11, 13, 17, 19])\n"
          ]
        }
      ]
    },
    {
      "cell_type": "code",
      "source": [
        "myArray2[2:3] = arr.array('i', [88,77])\n",
        "print(myArray2)"
      ],
      "metadata": {
        "colab": {
          "base_uri": "https://localhost:8080/"
        },
        "id": "fAnl-02E0La8",
        "outputId": "9614c31a-d7ec-4dff-c303-7f1a7f8e33ae"
      },
      "execution_count": 31,
      "outputs": [
        {
          "output_type": "stream",
          "name": "stdout",
          "text": [
            "array('i', [99, 2, 88, 77, 5, 7, 11, 13, 17, 19])\n"
          ]
        }
      ]
    },
    {
      "cell_type": "code",
      "source": [],
      "metadata": {
        "id": "5NEqHrgw0LfM"
      },
      "execution_count": null,
      "outputs": []
    },
    {
      "cell_type": "markdown",
      "source": [
        "## 2_Linked_list"
      ],
      "metadata": {
        "id": "QHVnxn--A0z7"
      }
    },
    {
      "cell_type": "code",
      "source": [
        "class Node:\n",
        "  def __init__(mySelf,data):\n",
        "    mySelf.item = data\n",
        "    mySelf.ref = None"
      ],
      "metadata": {
        "id": "Yklstm3G0LhJ"
      },
      "execution_count": 40,
      "outputs": []
    },
    {
      "cell_type": "code",
      "source": [
        "class myLinkedList :\n",
        "  def __init__(mySelf):\n",
        "    mySelf.start_node = None"
      ],
      "metadata": {
        "id": "FMarbV7cA6eX"
      },
      "execution_count": 42,
      "outputs": []
    },
    {
      "cell_type": "code",
      "source": [
        "def traverse_list(mySelf):\n",
        " if mySelf.start_node is none:\n",
        "     print(\"list has no element\")\n",
        "     return\n",
        " else:\n",
        "    n = mySelf.start_node\n",
        "    while n is not None:\n",
        "      print(n.item,\" \")\n",
        "      n = n.ref"
      ],
      "metadata": {
        "id": "pps_iTkoA6oR"
      },
      "execution_count": 49,
      "outputs": []
    },
    {
      "cell_type": "markdown",
      "source": [
        "## Manupulating the list"
      ],
      "metadata": {
        "id": "xcm0VOVFFoCP"
      }
    },
    {
      "cell_type": "code",
      "source": [
        "def insert_start(mySelf,data):\n",
        "  list\n",
        "  new_node = Node(data)\n",
        "  new_node.ref =  mySelf.start_node\n",
        "  mySelf.start_node= new_node\n",
        "\n",
        "def insert_end(mySelf, data):\n",
        "  new_node = Node(data)\n",
        "  if mySelf.start_node is None:\n",
        "     mySelf.start_node = new_node\n",
        "  return\n",
        "  n = mySelf.start_node\n",
        "  while n.ref is not None:\n",
        "    n=n.ref\n",
        "  n.ref = new_node"
      ],
      "metadata": {
        "id": "8CQtUzhgz8jH"
      },
      "execution_count": 55,
      "outputs": []
    },
    {
      "cell_type": "code",
      "source": [
        "def insert_specific(mySelf,x,data):\n",
        "  n = mySelf.start_node\n",
        "  print(n.ref)\n",
        "  while n is not None:\n",
        "    if n.item == x:\n",
        "      break\n",
        "      n = n.ref\n",
        "      if n is None:\n",
        "        print(\"item not in the list\")\n",
        "      else:\n",
        "          new_node = Node(data)\n",
        "          new_node.ref = n.ref\n",
        "          n.ref = new_node\n",
        "\n",
        "          def insert_index (mySelf,index,data):\n",
        "            if index == 1:\n",
        "              new_node =Node(data)\n",
        "              new_node.ref = mySelf.start_node\n",
        "              while i < index-1 and n is not None :\n",
        "                        n = n.ref\n",
        "                        i =i+1\n",
        "                        if n is None:\n",
        "                           print(\"index iout of bound\")\n",
        "                        else:\n",
        "                            new_node=Node(data)\n",
        "                            n.ref = new_node\n",
        "                            myLIST = myLinkedList()\n",
        "                            myLIST=[1,2,3]\n",
        "                            myLIST.insert_end(1)\n",
        "                            myLIST.insert_end(3)\n",
        "                            myLIST.insert_end(5)\n",
        "                            myLIST.traverse_list()\n",
        "                            myLIST.get_count()\n",
        "\n",
        "                            myLIST.insert_start(7)\n",
        "                            myLIST.insert_start(9)\n",
        "                            myLIST.insert_start(11)\n",
        "\n"
      ],
      "metadata": {
        "id": "MfZWlqlWz8kv"
      },
      "execution_count": 57,
      "outputs": []
    },
    {
      "cell_type": "code",
      "source": [],
      "metadata": {
        "id": "hohrOFKyz8or"
      },
      "execution_count": null,
      "outputs": []
    }
  ]
}